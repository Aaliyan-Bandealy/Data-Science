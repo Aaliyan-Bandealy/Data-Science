{
 "cells": [
  {
   "cell_type": "markdown",
   "metadata": {},
   "source": [
    "The goal this week is to pratice using Markdown to write descriptive text in notebooks and then look at Python data structures including the pandas module that supports data structures designed for handling the kind of data we'll be working with.  \n",
    "\n",
    "There is probably too much work to complete here in the workshop session, but please use this notebook after the workshop to practice your Python.  Remember to commit your changes to git as you go and push back to Github when you are done."
   ]
  },
  {
   "cell_type": "code",
   "execution_count": null,
   "metadata": {},
   "outputs": [],
   "source": [
    "student_name = \"Your Name Here\"\n",
    "student_id = \"Your ID Here\""
   ]
  },
  {
   "cell_type": "markdown",
   "metadata": {},
   "source": [
    "## Markdown Practice\n",
    "\n",
    "Complete this section as per the instructions in the iLearn practical page.  Add the required cells below this one."
   ]
  },
  {
   "cell_type": "markdown",
   "metadata": {},
   "source": [
    "# heading level 1"
   ]
  },
  {
   "cell_type": "markdown",
   "metadata": {},
   "source": [
    "I really like using Markdown.\r\n",
    "\r\n",
    "I think I'll use it to format all of my documents from now n."
   ]
  },
  {
   "cell_type": "markdown",
   "metadata": {},
   "source": [
    "This is the first line.  \r\n",
    "And this is the second line."
   ]
  },
  {
   "cell_type": "markdown",
   "metadata": {},
   "source": [
    "$1-x$\n",
    "\n",
    "$$1-x$$"
   ]
  },
  {
   "cell_type": "markdown",
   "metadata": {},
   "source": []
  },
  {
   "cell_type": "markdown",
   "metadata": {},
   "source": [
    "  <img src=\"Git-Logo-2Color.png\">"
   ]
  },
  {
   "cell_type": "markdown",
   "metadata": {},
   "source": [
    "Here are some useful features of [Markdown](https://daringfireball.net/projects/markdown/)\n",
    "\n",
    "1. it is easy to use\n",
    "2. xxxx\n",
    "3. xxxx\n",
    "     - for example **bold text** and *italics*\n",
    "     - This expression $\\sqrt(3x-1) + (1+x)^2$ is an xxx\n",
    "\n",
    "```\n",
    "git pull \\--rebase\n",
    "```\n",
    "\n",
    "\n",
    "<img src='Git-Logo-2Color.png' width=100 height= 100 style='margin: auto'>\n",
    "<img src='Git-Logo-2Color.png' width=100 height= 100 style='margin: left'>"
   ]
  },
  {
   "cell_type": "markdown",
   "metadata": {},
   "source": []
  },
  {
   "cell_type": "markdown",
   "metadata": {},
   "source": [
    "## Lists and Dictionaries\n",
    "\n",
    "First we look at some built in Python data structures: lists and dictionaries. \n",
    "\n",
    "A list is a sequence of things, unlike strongly typed languages (Java, C#) a list can contain a mixture of different types - there is no type for a list of integers or a list of lists.   Here are some lists:"
   ]
  },
  {
   "cell_type": "code",
   "execution_count": 67,
   "metadata": {},
   "outputs": [],
   "source": [
    "ages = [12, 99, 51, 3, 55]\n",
    "names = ['steve', 'jim', 'mary', 'carrie', 'zin']\n",
    "stuff = [12, 'eighteen', 6, ['another', 'list']]"
   ]
  },
  {
   "cell_type": "markdown",
   "metadata": {},
   "source": [
    "1. write code to print the first and third elements of each list\n",
    "2. write code to select and print everything except the first element of each list\n",
    "3. write a for loop that prints each element of the 'names' list"
   ]
  },
  {
   "cell_type": "code",
   "execution_count": 105,
   "metadata": {},
   "outputs": [
    {
     "name": "stdout",
     "output_type": "stream",
     "text": [
      "12 51\n",
      "steve mary\n",
      "12 6\n",
      "[99, 51, 3, 55]\n",
      "['jim', 'mary', 'carrie', 'zin']\n",
      "['eighteen', 6, ['another', 'list']]\n",
      "steve\n",
      "jim\n",
      "mary\n",
      "carrie\n",
      "zin\n"
     ]
    }
   ],
   "source": [
    "# write code here\n",
    "print(ages[0],ages[2])\n",
    "print(names[0],names[2])\n",
    "print(stuff[0],stuff[2]);\n",
    "\n",
    "print(ages[1:])\n",
    "print(names[1:])\n",
    "print(stuff[1:]);\n",
    "\n",
    "for name in names:\n",
    "    print(name)"
   ]
  },
  {
   "cell_type": "markdown",
   "metadata": {},
   "source": [
    "A dictionary is an associative array - it associates a value (any Python data type) with a key. The key is usually a string but can be any immutable type (string, number, tuple).  Here's some code that counts the occurence of words in a string.  It stores the count for each word in a dictionary using the word as a key. If the word is already stored in the dictionary, it adds one to the count, if not, it initialises the count to one.  \n",
    "\n",
    "The second for loop iterates over the keys in the dictionary and prints one line per entry.\n",
    "\n",
    "Modify this example to be a bit smarter:\n",
    "- make sure that punctuation characters are not included as parts of a word, be careful with hyphens - should they be included or not?\n",
    "- make the count use the lowercase version of a word, so that 'The' and 'the' are counted as the same word\n",
    "- **Challenge**: find the first and second most frequent words in the text\n",
    "- **Challenge**: take your code and write it as a function that takes a string and returns a list of words with their counts in order"
   ]
  },
  {
   "cell_type": "code",
   "execution_count": 218,
   "metadata": {},
   "outputs": [
    {
     "name": "stdout",
     "output_type": "stream",
     "text": [
      "This unit introduces students to the fundamental techniques and \n",
      "tools of data science such as the graphical display of data \n",
      "predictive models evaluation methodologies regression \n",
      "classification and clustering The unit provides practical \n",
      "experience applying these methods using industry-standard \n",
      "software tools to real-world data sets Students who have \n",
      "completed this unit will be able to identify which data \n",
      "science methods are most appropriate for a real-world data \n",
      "set apply these methods to the data set and interpret the \n",
      "results of the analysis they have performed \n",
      "this unit introduces students to the fundamental techniques and \n",
      "tools of data science such as the graphical display of data \n",
      "predictive models evaluation methodologies regression \n",
      "classification and clustering the unit provides practical \n",
      "experience applying these methods using industry-standard \n",
      "software tools to real-world data sets students who have \n",
      "completed this unit will be able to identify which data \n",
      "science methods are most appropriate for a real-world data \n",
      "set apply these methods to the data set and interpret the \n",
      "results of the analysis they have performed \n",
      "this 2\n",
      "unit 3\n",
      "introduces 1\n",
      "students 2\n",
      "to 4\n",
      "the 6\n",
      "fundamental 1\n",
      "techniques 1\n",
      "and 3\n",
      "tools 2\n",
      "of 3\n",
      "data 6\n",
      "science 2\n",
      "such 1\n",
      "as 1\n",
      "graphical 1\n",
      "display 1\n",
      "predictive 1\n",
      "models 1\n",
      "evaluation 1\n",
      "methodologies 1\n",
      "regression 1\n",
      "classification 1\n",
      "clustering 1\n",
      "provides 1\n",
      "practical 1\n",
      "experience 1\n",
      "applying 1\n",
      "these 2\n",
      "methods 3\n",
      "using 1\n",
      "industry-standard 1\n",
      "software 1\n",
      "real-world 2\n",
      "sets 1\n",
      "who 1\n",
      "have 2\n",
      "completed 1\n",
      "will 1\n",
      "be 1\n",
      "able 1\n",
      "identify 1\n",
      "which 1\n",
      "are 1\n",
      "most 1\n",
      "appropriate 1\n",
      "for 1\n",
      "a 1\n",
      "set 2\n",
      "apply 1\n",
      "interpret 1\n",
      "results 1\n",
      "analysis 1\n",
      "they 1\n",
      "performed 1\n",
      "1st most frequent word: ('the', 6)\n",
      "2nd most frequent word: ('data', 6)\n",
      "[('the', 6), ('data', 6), ('to', 4), ('unit', 3), ('and', 3), ('of', 3), ('methods', 3), ('this', 2), ('students', 2), ('tools', 2), ('science', 2), ('these', 2), ('real-world', 2), ('have', 2), ('set', 2), ('introduces', 1), ('fundamental', 1), ('techniques', 1), ('such', 1), ('as', 1), ('graphical', 1), ('display', 1), ('predictive', 1), ('models', 1), ('evaluation', 1), ('methodologies', 1), ('regression', 1), ('classification', 1), ('clustering', 1), ('provides', 1), ('practical', 1), ('experience', 1), ('applying', 1), ('using', 1), ('industry-standard', 1), ('software', 1), ('sets', 1), ('who', 1), ('completed', 1), ('will', 1), ('be', 1), ('able', 1), ('identify', 1), ('which', 1), ('are', 1), ('most', 1), ('appropriate', 1), ('for', 1), ('a', 1), ('apply', 1), ('interpret', 1), ('results', 1), ('analysis', 1), ('they', 1), ('performed', 1)]\n"
     ]
    }
   ],
   "source": [
    "description = \"\"\"This unit introduces students to the fundamental techniques and \n",
    "tools of data science, such as the graphical display of data, \n",
    "predictive models, evaluation methodologies, regression, \n",
    "classification and clustering. The unit provides practical \n",
    "experience applying these methods using industry-standard \n",
    "software tools to real-world data sets. Students who have \n",
    "completed this unit will be able to identify which data \n",
    "science methods are most appropriate for a real-world data \n",
    "set, apply these methods to the data set, and interpret the \n",
    "results of the analysis they have performed. \"\"\"\n",
    "\n",
    "#Q1\n",
    "\n",
    "import re\n",
    "from collections import Counter\n",
    "\n",
    "\n",
    "clean_description= re.sub('[,.]','',description)\n",
    "print(clean_description)\n",
    "\n",
    "#Q2\n",
    "\n",
    "clean_description=clean_description.lower()\n",
    "print(clean_description)\n",
    "\n",
    "count = dict()\n",
    "for word in clean_description.split():\n",
    "    if word in count:\n",
    "        count[word] += 1\n",
    "    else:\n",
    "        count[word] = 1\n",
    "        \n",
    "for word in count:\n",
    "    print(word, count[word])\n",
    "\n",
    "    \n",
    "#Q3\n",
    "words_splitted= clean_description.split()\n",
    "word_count = Counter(words_splitted)\n",
    "\n",
    "most_common_words = word_count.most_common()\n",
    "\n",
    "print(\"1st most frequent word:\", most_common_words[0])\n",
    "print(\"2nd most frequent word:\", most_common_words[1])\n",
    "\n",
    "#Q4\n",
    "print(most_common_words)"
   ]
  },
  {
   "cell_type": "markdown",
   "metadata": {},
   "source": [
    "## Pandas Data Frames\n",
    "\n",
    "[Pandas](https://pandas.pydata.org) is a Python module that provides some important data structures for Data Science work and a large collection of methods for data analysis. \n",
    "\n",
    "The two main data structures are the [Series]() and [DataFrame](http://pandas.pydata.org/pandas-docs/stable/dsintro.html#dataframe).  \n",
    "\n",
    "A Series is a one dimensional array of data, but unlike the Python list the data is indexed - the index is like the dictionary key, any immutable value like a number or string.  You can use the label to select elements from the series as well as positional values.  \n",
    "\n",
    "A DataFrame is analogous to a spreadsheet - a two dimensional table of data with indexed rows and named columns. \n",
    "\n",
    "You should read up on these and follow the examples in the text.  Here are a few exercises to complete with data frames."
   ]
  },
  {
   "cell_type": "markdown",
   "metadata": {},
   "source": [
    "You are given three csv files containing sample data."
   ]
  },
  {
   "cell_type": "code",
   "execution_count": 137,
   "metadata": {},
   "outputs": [],
   "source": [
    "import pandas as pd\n",
    "import numpy as np\n",
    "import matplotlib.pyplot as plt\n",
    "%matplotlib inline\n",
    "\n",
    "ds1 = 'files/ds1.csv'\n",
    "ds2 = 'files/ds2.csv'\n",
    "ds3 = 'files/ds3.csv'"
   ]
  },
  {
   "cell_type": "markdown",
   "metadata": {},
   "source": [
    "Write code below to read one of these data files into a pandas data frame and:\n",
    "- show the first few rows: .head\n",
    "- find the summary data for each column: .describe\n",
    "- select just those rows where the value of x and y is over 50\n",
    "- select the column 'x' and create a series\n",
    "- plot the 'x' series as a line graph\n",
    "- plot the dataframe as a scatterplot\n",
    "\n",
    "Once you have the code for this, you can change the file you use for input of the data (ds2, ds3) and re-run the following cells to see the different output that is generated"
   ]
  },
  {
   "cell_type": "code",
   "execution_count": 222,
   "metadata": {},
   "outputs": [
    {
     "name": "stdout",
     "output_type": "stream",
     "text": [
      "           x          y\n",
      "0  58.213608  91.881892\n",
      "1  58.196054  92.214989\n",
      "2  58.718231  90.310532\n",
      "0       True\n",
      "1       True\n",
      "2       True\n",
      "3       True\n",
      "4       True\n",
      "       ...  \n",
      "137    False\n",
      "138     True\n",
      "139     True\n",
      "140     True\n",
      "141     True\n",
      "Name: x, Length: 142, dtype: bool\n",
      "0       True\n",
      "1       True\n",
      "2       True\n",
      "3       True\n",
      "4       True\n",
      "       ...  \n",
      "137    False\n",
      "138     True\n",
      "139     True\n",
      "140     True\n",
      "141     True\n",
      "Name: y, Length: 142, dtype: bool\n",
      "             x          y\n",
      "0    58.213608  91.881892\n",
      "1    58.196054  92.214989\n",
      "2    58.718231  90.310532\n",
      "3    57.278373  89.907607\n",
      "4    58.082020  92.008145\n",
      "5    57.489448  88.085286\n",
      "24   64.892788  65.814177\n",
      "25   62.490149  74.584290\n",
      "26   68.988084  63.232147\n",
      "27   62.105619  75.990871\n",
      "61   77.392982  63.371459\n",
      "62   64.400787  67.448718\n",
      "63   63.868960  70.213739\n",
      "64   56.594421  86.927006\n",
      "65   56.531337  87.499811\n",
      "66   59.652158  87.809462\n",
      "67   56.636509  85.637496\n",
      "68   58.672288  90.077160\n",
      "69   58.221613  90.411019\n",
      "70   57.914664  89.953803\n",
      "71   55.315509  80.251861\n",
      "72   54.575729  77.536288\n",
      "73   54.413094  78.229087\n",
      "74   55.074506  79.817546\n",
      "78   58.461839  90.265326\n",
      "79   57.997805  92.159909\n",
      "80   57.549474  90.748907\n",
      "81   59.529928  88.327274\n",
      "82   58.249391  92.129681\n",
      "83   58.024514  91.694421\n",
      "84   58.382124  90.553476\n",
      "85   62.566759  77.743935\n",
      "86   72.175824  63.128929\n",
      "87   79.472762  63.408686\n",
      "88   80.357701  63.295438\n",
      "89   78.757236  53.332620\n",
      "90   82.540240  56.541052\n",
      "91   86.435897  59.792762\n",
      "92   79.488684  53.651674\n",
      "93   81.530420  56.025365\n",
      "94   79.186789  53.234792\n",
      "95   77.899058  51.822458\n",
      "138  79.326078  52.900391\n",
      "139  56.663974  87.940125\n",
      "140  57.821789  90.693167\n",
      "141  58.243172  92.104328\n",
      "0      58.213608\n",
      "1      58.196054\n",
      "2      58.718231\n",
      "3      57.278373\n",
      "4      58.082020\n",
      "         ...    \n",
      "137    43.722551\n",
      "138    79.326078\n",
      "139    56.663974\n",
      "140    57.821789\n",
      "141    58.243172\n",
      "Name: x, Length: 142, dtype: float64\n"
     ]
    },
    {
     "data": {
      "text/plain": [
       "<Axes: xlabel='x', ylabel='y'>"
      ]
     },
     "execution_count": 222,
     "metadata": {},
     "output_type": "execute_result"
    },
    {
     "data": {
      "image/png": "[encoded data removed]",
      "text/plain": [
       "<Figure size 640x480 with 1 Axes>"
      ]
     },
     "metadata": {},
     "output_type": "display_data"
    },
    {
     "data": {
      "image/png": "[encoded data removed]",
      "text/plain": [
       "<Figure size 640x480 with 1 Axes>"
      ]
     },
     "metadata": {},
     "output_type": "display_data"
    }
   ],
   "source": [
    "# write your code here\n",
    "\n",
    "file_path='data/ds3.csv'\n",
    "df1=pd.read_csv(file_path)\n",
    "#- show the first few rows: .head\n",
    "print(df1.head(3))\n",
    "\n",
    "#summary data for each colum\n",
    "df1.describe()\n",
    "df1.shape\n",
    "\n",
    "#- select just those rows where the value of x and y is over 50\n",
    "x50 = df1['x'] > 50\n",
    "y50 = df1['y'] > 50\n",
    "print(x50)\n",
    "print(y50)\n",
    "newdf1 = df1[x50 & y50]\n",
    "print(newdf1)\n",
    "\n",
    "#- select the column 'x' and create a series\n",
    "x_c = df1['x']\n",
    "print(x_c)\n",
    "\n",
    "#- plot the 'x' series as a line graph\n",
    "x_c.plot(kind='line')\n",
    "\n",
    "#- plot the dataframe as a scatterplot\n",
    "df1.plot.scatter(x='x',y='y')"
   ]
  },
  {
   "cell_type": "markdown",
   "metadata": {},
   "source": [
    "## Checkpoint\n",
    "\n",
    "Congratulations! you have finished the required task for Week 2. Since you got this empty (without your code and output) notebook by downloading from iLearn, place this notebook (Workshop Week 2.ipynb) into your local copy of your Github repository (e.g. practical-workshops-sonitsingh)and commit your work with a suitable commit message and push your changes back to your Github repository. Show your tutor your updated Github repository to get your checkpoint mark."
   ]
  },
  {
   "cell_type": "markdown",
   "metadata": {},
   "source": [
    "# Further Practice\n",
    "\n",
    "If you finish this task you can practice more with pandas data frames by following the examples in the text, section 2.6.  The CSV file that they use in that section is available in the `files` directory of this repository as `educ_figdp_1_Data.csv`.   "
   ]
  },
  {
   "cell_type": "code",
   "execution_count": null,
   "metadata": {},
   "outputs": [],
   "source": [
    "edufile = 'files/educ_figdp_1_Data.csv'"
   ]
  }
 ],
 "metadata": {
  "kernelspec": {
   "display_name": "Python 3 (ipykernel)",
   "language": "python",
   "name": "python3"
  },
  "language_info": {
   "codemirror_mode": {
    "name": "ipython",
    "version": 3
   },
   "file_extension": ".py",
   "mimetype": "text/x-python",
   "name": "python",
   "nbconvert_exporter": "python",
   "pygments_lexer": "ipython3",
   "version": "3.12.4"
  }
 },
 "nbformat": 4,
 "nbformat_minor": 4
}
