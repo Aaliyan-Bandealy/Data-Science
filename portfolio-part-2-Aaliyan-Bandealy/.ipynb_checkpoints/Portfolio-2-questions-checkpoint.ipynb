{
 "cells": [
  {
   "cell_type": "markdown",
   "id": "rSF_UH-XklO4",
   "metadata": {
    "id": "rSF_UH-XklO4"
   },
   "source": [
    "## Analysis of a Car Sell Dataset Part 2"
   ]
  },
  {
   "cell_type": "markdown",
   "id": "aWJHrXuwklO5",
   "metadata": {
    "id": "aWJHrXuwklO5"
   },
   "source": [
    "There are two goals in the second analysis task: (1), train linear regression models to predict the selling prices of cars; (2) assess the data ethics issues. There are *7* questions in this portfolio. \n",
    "\n",
    "The first goal involves a standard Data Science workflow: exploring data, building models, making predictions, and evaluating results. In this task, we will explore the impacts of feature selections and different sizes of training/testing data on the model performance. We will use another cleaned car_sells sub-dataset that **is different from** the one in “Analysis of a Car Sell Dataset” task 1. This goal covers Questions *1-6*. \n",
    "\n",
    "Question *7* is about data ethics issue."
   ]
  },
  {
   "cell_type": "code",
   "execution_count": 3,
   "id": "f2b11c57",
   "metadata": {},
   "outputs": [],
   "source": [
    "your_name = \"Aaliyan Bandealy\"\n",
    "your_student_id = \"48216739\""
   ]
  },
  {
   "cell_type": "code",
   "execution_count": 132,
   "id": "0e327626",
   "metadata": {},
   "outputs": [],
   "source": [
    "import pandas as pd\n",
    "import numpy as np\n",
    "from sklearn.model_selection import train_test_split\n",
    "from sklearn import linear_model\n",
    "from sklearn.metrics import r2_score\n",
    "from sklearn.linear_model import LinearRegression\n",
    "from sklearn.metrics import mean_squared_error\n",
    "\n",
    "\n",
    "import seaborn as sns\n",
    "import matplotlib.pylab as plt\n",
    "%matplotlib inline"
   ]
  },
  {
   "cell_type": "markdown",
   "id": "0g4OhHHzklO6",
   "metadata": {
    "id": "0g4OhHHzklO6"
   },
   "source": [
    "### Q1: Import Cleaned Car Sell Dataset\n",
    "The csv file named 'car_sells_clean_data.csv' is provided. You may need to use the Pandas method, i.e., `read_csv`, for reading it. After that, please print out its total length."
   ]
  },
  {
   "cell_type": "code",
   "execution_count": 9,
   "id": "9ki1LBees70W",
   "metadata": {
    "colab": {
     "base_uri": "https://localhost:8080/"
    },
    "id": "9ki1LBees70W",
    "outputId": "d3ff4349-47d0-423b-ef22-caf78c9883f5"
   },
   "outputs": [
    {
     "data": {
      "text/html": [
       "<div>\n",
       "<style scoped>\n",
       "    .dataframe tbody tr th:only-of-type {\n",
       "        vertical-align: middle;\n",
       "    }\n",
       "\n",
       "    .dataframe tbody tr th {\n",
       "        vertical-align: top;\n",
       "    }\n",
       "\n",
       "    .dataframe thead th {\n",
       "        text-align: right;\n",
       "    }\n",
       "</style>\n",
       "<table border=\"1\" class=\"dataframe\">\n",
       "  <thead>\n",
       "    <tr style=\"text-align: right;\">\n",
       "      <th></th>\n",
       "      <th>name</th>\n",
       "      <th>year</th>\n",
       "      <th>selling_price</th>\n",
       "      <th>km_driven</th>\n",
       "      <th>fuel</th>\n",
       "      <th>seller_type</th>\n",
       "      <th>transmission</th>\n",
       "      <th>owner</th>\n",
       "    </tr>\n",
       "  </thead>\n",
       "  <tbody>\n",
       "    <tr>\n",
       "      <th>0</th>\n",
       "      <td>Maruti 800 AC</td>\n",
       "      <td>2007.0</td>\n",
       "      <td>60000</td>\n",
       "      <td>70000</td>\n",
       "      <td>Petrol</td>\n",
       "      <td>Individual</td>\n",
       "      <td>Manual</td>\n",
       "      <td>First Owner</td>\n",
       "    </tr>\n",
       "    <tr>\n",
       "      <th>1</th>\n",
       "      <td>Maruti Wagon R LXI Minor</td>\n",
       "      <td>2007.0</td>\n",
       "      <td>135000</td>\n",
       "      <td>50000</td>\n",
       "      <td>Petrol</td>\n",
       "      <td>Individual</td>\n",
       "      <td>Manual</td>\n",
       "      <td>First Owner</td>\n",
       "    </tr>\n",
       "    <tr>\n",
       "      <th>2</th>\n",
       "      <td>Hyundai Verna 1.6 SX</td>\n",
       "      <td>2012.0</td>\n",
       "      <td>600000</td>\n",
       "      <td>100000</td>\n",
       "      <td>Diesel</td>\n",
       "      <td>Individual</td>\n",
       "      <td>Manual</td>\n",
       "      <td>First Owner</td>\n",
       "    </tr>\n",
       "    <tr>\n",
       "      <th>3</th>\n",
       "      <td>Datsun RediGO T Option</td>\n",
       "      <td>2017.0</td>\n",
       "      <td>250000</td>\n",
       "      <td>46000</td>\n",
       "      <td>Petrol</td>\n",
       "      <td>Individual</td>\n",
       "      <td>Manual</td>\n",
       "      <td>First Owner</td>\n",
       "    </tr>\n",
       "    <tr>\n",
       "      <th>4</th>\n",
       "      <td>Honda Amaze VX i-DTEC</td>\n",
       "      <td>2014.0</td>\n",
       "      <td>450000</td>\n",
       "      <td>141000</td>\n",
       "      <td>Diesel</td>\n",
       "      <td>Individual</td>\n",
       "      <td>Manual</td>\n",
       "      <td>Second Owner</td>\n",
       "    </tr>\n",
       "  </tbody>\n",
       "</table>\n",
       "</div>"
      ],
      "text/plain": [
       "                       name    year  selling_price  km_driven    fuel  \\\n",
       "0             Maruti 800 AC  2007.0          60000      70000  Petrol   \n",
       "1  Maruti Wagon R LXI Minor  2007.0         135000      50000  Petrol   \n",
       "2      Hyundai Verna 1.6 SX  2012.0         600000     100000  Diesel   \n",
       "3    Datsun RediGO T Option  2017.0         250000      46000  Petrol   \n",
       "4     Honda Amaze VX i-DTEC  2014.0         450000     141000  Diesel   \n",
       "\n",
       "  seller_type transmission         owner  \n",
       "0  Individual       Manual   First Owner  \n",
       "1  Individual       Manual   First Owner  \n",
       "2  Individual       Manual   First Owner  \n",
       "3  Individual       Manual   First Owner  \n",
       "4  Individual       Manual  Second Owner  "
      ]
     },
     "execution_count": 9,
     "metadata": {},
     "output_type": "execute_result"
    }
   ],
   "source": [
    "#q1\n",
    "df = pd.read_csv('car_sells_clean_data.csv')"
   ]
  },
  {
   "cell_type": "markdown",
   "id": "RpXf1q3UklO7",
   "metadata": {
    "id": "RpXf1q3UklO7"
   },
   "source": [
    "### Q2: Explore the Dataset\n",
    "\n",
    "* Use the methods, i.e., `head()` and `info()`, to have a rough picture about the data, e.g., how many columns, and the data types of each column.\n",
    "* As our goal is to predict cars' selling prices given other columns, please get the correlations between year/km_driven/seller_type/fuel/owner and selling_price by using the `corr()` method.\n",
    "* To get the correlations between different features, you may need to first convert the categorical features (i.e., seller_type and owner) into numerial values. For doing this, you may need to import `OrdinalEncoder` from `sklearn.preprocessing` (refer to the useful exmaples [here](https://pbpython.com/categorical-encoding.html))\n",
    "* Please provide ___necessary explanations/analysis___ on the correlations, and figure out which are the ___most___ and ___least___ corrleated features regarding selling_price. Try to ___discuss___ how the correlation will affect the final prediction results, if we use these features to train a regression model for selling_price prediction. In what follows, we will conduct experiments to verify your hypothesis."
   ]
  },
  {
   "cell_type": "code",
   "execution_count": 102,
   "id": "7551c655",
   "metadata": {},
   "outputs": [
    {
     "name": "stdout",
     "output_type": "stream",
     "text": [
      "\n",
      "<class 'pandas.core.frame.DataFrame'>\n",
      "RangeIndex: 3657 entries, 0 to 3656\n",
      "Data columns (total 8 columns):\n",
      " #   Column         Non-Null Count  Dtype  \n",
      "---  ------         --------------  -----  \n",
      " 0   name           3657 non-null   object \n",
      " 1   year           3657 non-null   float64\n",
      " 2   selling_price  3657 non-null   int64  \n",
      " 3   km_driven      3657 non-null   int64  \n",
      " 4   fuel           3657 non-null   object \n",
      " 5   seller_type    3657 non-null   float64\n",
      " 6   transmission   3657 non-null   object \n",
      " 7   owner          3657 non-null   float64\n",
      "dtypes: float64(3), int64(2), object(3)\n",
      "memory usage: 228.7+ KB\n",
      "\n",
      "                       name    year  selling_price  km_driven    fuel  \\\n",
      "0             Maruti 800 AC  2007.0          60000      70000  Petrol   \n",
      "1  Maruti Wagon R LXI Minor  2007.0         135000      50000  Petrol   \n",
      "2      Hyundai Verna 1.6 SX  2012.0         600000     100000  Diesel   \n",
      "3    Datsun RediGO T Option  2017.0         250000      46000  Petrol   \n",
      "4     Honda Amaze VX i-DTEC  2014.0         450000     141000  Diesel   \n",
      "\n",
      "   seller_type transmission  owner  \n",
      "0          1.0       Manual    0.0  \n",
      "1          1.0       Manual    0.0  \n",
      "2          1.0       Manual    0.0  \n",
      "3          1.0       Manual    0.0  \n",
      "4          1.0       Manual    1.0  \n",
      "\n",
      "                   year  km_driven  seller_type     owner  selling_price\n",
      "year           1.000000  -0.404058    -0.139135 -0.433406       0.411103\n",
      "km_driven     -0.404058   1.000000     0.147376  0.306730      -0.177203\n",
      "seller_type   -0.139135   0.147376     1.000000  0.239288      -0.208637\n",
      "owner         -0.433406   0.306730     0.239288  1.000000      -0.205524\n",
      "selling_price  0.411103  -0.177203    -0.208637 -0.205524       1.000000\n"
     ]
    }
   ],
   "source": [
    "from sklearn.preprocessing import OrdinalEncoder\n",
    "\n",
    "#q2\n",
    "df.head()\n",
    "\n",
    "print()# to add a blank line in between\n",
    "\n",
    "df.info()\n",
    "\n",
    "print()\n",
    "\n",
    "\n",
    "#convert categorical value into numerical\n",
    "encoder = OrdinalEncoder()\n",
    "\n",
    "df[['seller_type','owner']] = encoder.fit_transform(df[['seller_type','owner']])\n",
    "\n",
    "print(df.head())\n",
    "\n",
    "print()\n",
    "\n",
    "#calculate correlations\n",
    "correlation = df[['year', 'km_driven', 'seller_type', 'owner', 'selling_price']].corr()\n",
    "print(correlation)"
   ]
  },
  {
   "cell_type": "markdown",
   "id": "02e65aab-13ae-4da9-a596-e2cc9f61452a",
   "metadata": {
    "jp-MarkdownHeadingCollapsed": true
   },
   "source": [
    "\r\n",
    "\r\n",
    "### Analysis\r\n",
    "\r\n",
    "1. **Most Correlated Feature with `selling_price`: `year` (0.411103)**\r\n",
    "   \r\n",
    "   The feature `year` is most positively correlated with `selling_price`. This means that as the `year` increases (signifying newer cars), the selling prices also tend to increase. Including `year` as a predictor will likely enhance the regression model's ability to predict `selling_price`, as this feature directly impacts car depreciation and perceived value.\r\n",
    "\r\n",
    "2. **Least Correlated Feature with `selling_price`: `km_driven` (-0.177203)**\r\n",
    "   \r\n",
    "   The feature `km_driven` has a weak negative correlation with `selling_price`. This suggests that as the number of kilometers driven increases, the selling price decreases slightly. However, this correlation is weak, indicating that the selling price is not strongly determined by how much a car has been driven (mileage). Although `km_driven` has some impact on `selling_price`, the weak correlation suggests it may not be a strong predictor on its own.\r\n",
    "\r\n",
    "3. **Moderately Correlated Features with `selling_price`: `seller_type` (-0.208637) and `owner` (-0.205524)**\r\n",
    "   \r\n",
    "   Both `seller_type` and `owner` features have weak to moderate negative correlations with `selling_price`. The negative correlation for `seller_type` suggests that cars sold by dealers may generally have somewhat lower prices, reflecting different market dynamics compared to individual sellers. The `owner` feature's negative correlation indicates that cars with more previous owners tend to have relatively lower selling prices. Given these weak correlations, their impact on the regression model will likely be minor compared to more significant feature    "
   ]
  },
  {
   "cell_type": "markdown",
   "id": "C3DFUuGXklO_",
   "metadata": {
    "id": "C3DFUuGXklO_"
   },
   "source": [
    "### Q3: Split Training and Testing Data\n",
    "* Machine learning models are trained to help make predictions for the future. Normally, we need to randomly split the dataset into training and testing sets, where we use the training set to train the model, and then leverage the well-trained model to make predictions on the testing set.\n",
    "* To further investigate whether the size of the training/testing data affects the model performance, please randomly split the data into training and testing sets with different sizes:\n",
    "    * Case 1: training data containing 10% of the entire data;\n",
    "    * Case 2: training data containing 90% of the entire data.\n",
    "* Print the shape of training and testing sets in the two cases."
   ]
  },
  {
   "cell_type": "code",
   "execution_count": 122,
   "id": "47f6b5cd",
   "metadata": {},
   "outputs": [
    {
     "name": "stdout",
     "output_type": "stream",
     "text": [
      "Case 1 - Training: (365, 8)\n",
      "Case 1 - Testing: (3292, 8)\n",
      "Case 2 - Training: (3291, 8)\n",
      "Case 2 - Testing: (366, 8)\n"
     ]
    }
   ],
   "source": [
    "#case 1 train and test\n",
    "train_10, test_90 = train_test_split(df,test_size=0.9, random_state = 42)\n",
    "\n",
    "#case 2 train and test\n",
    "train_90, test_10 = train_test_split(df,test_size=0.1, random_state = 42)\n",
    "\n",
    "#print the shapes\n",
    "print(\"Case 1 - Training:\", train_10.shape)\n",
    "print(\"Case 1 - Testing:\", test_90.shape)\n",
    "print(\"Case 2 - Training:\", train_90.shape)\n",
    "print(\"Case 2 - Testing:\", test_10.shape)"
   ]
  },
  {
   "cell_type": "markdown",
   "id": "WiNRCPFoklO_",
   "metadata": {
    "id": "WiNRCPFoklO_"
   },
   "source": [
    "### Q4: Train Linear Regression Models with Feature Selection under Cases 1 & 2\n",
    "* When training a machine learning model for prediction, we may need to select the most important/correlated input features for more accurate results.\n",
    "* To investigate whether feature selection affects the model performance, please select two most correlated features and two least correlated features regarding selling_price, respectively.\n",
    "* Train four linear regression models by following the conditions:\n",
    "    - (model-a) using the training/testing data in case 1 with two most correlated input features\n",
    "    - (model-b) using the training/testing data in case 1 with two least correlated input features\n",
    "    - (model-c) using the training/testing data in case 2 with two most correlated input features\n",
    "    - (model-d) using the training/testing data in case 2 with two least correlated input features\n",
    "* By doing this, we can verify the impacts of the size of traing/testing data on the model performance via comparing model-a and model-c (or model-b and model-d); meanwhile the impacts of feature selection can be validated via comparing model-a and model-b (or model-c and model-d).    "
   ]
  },
  {
   "cell_type": "code",
   "execution_count": 140,
   "id": "7bcd6158",
   "metadata": {},
   "outputs": [
    {
     "name": "stdout",
     "output_type": "stream",
     "text": [
      "199442370973.79584 446589.71212265495\n"
     ]
    }
   ],
   "source": [
    "#setting correlations\n",
    "most_correlated_features = ['year', 'km_driven']\n",
    "least_correlated_features = ['seller_type', 'owner']\n",
    "\n",
    "\n",
    "def training_models(X_train, y_train, X_test, y_test):\n",
    "    model = LinearRegression()\n",
    "    model.fit(X_train, y_train)\n",
    "    predictions = model.predict(X_test)\n",
    "    mse = mean_squared_error(y_test, predictions)\n",
    "    rmse = np.sqrt(mse)\n",
    "    return mse, rmse\n",
    "\n",
    "# Model-a:\n",
    "X_train_a = train_10[most_correlated_features]\n",
    "y_train_a = train_10['selling_price']\n",
    "X_test_a = test_90[most_correlated_features]\n",
    "y_test_a = test_90['selling_price']\n",
    "mse_a, rmse_a = training_models(X_train_a, y_train_a, X_test_a, y_test_a)\n",
    "\n",
    "# Model-b: \n",
    "X_train_b = train_10[least_correlated_features]\n",
    "y_train_b = train_10['selling_price']\n",
    "X_test_b = test_90[least_correlated_features]\n",
    "y_test_b = test_90['selling_price']\n",
    "mse_b, rmse_b = training_models(X_train_b, y_train_b, X_test_b, y_test_b)\n",
    "\n",
    "# Model-c:\n",
    "X_train_c = train_90[most_correlated_features]\n",
    "y_train_c = train_90['selling_price']\n",
    "X_test_c = test_10[most_correlated_features]\n",
    "y_test_c = test_10['selling_price']\n",
    "mse_c, rmse_c = training_models(X_train_c, y_train_c, X_test_c, y_test_c)\n",
    "\n",
    "# Model-d:\n",
    "X_train_d = train_90[least_correlated_features]\n",
    "y_train_d = train_90['selling_price']\n",
    "X_test_d = test_10[least_correlated_features]\n",
    "y_test_d = test_10['selling_price']\n",
    "mse_d, rmse_d = training_models(X_train_d, y_train_d, X_test_d, y_test_d)"
   ]
  },
  {
   "cell_type": "markdown",
   "id": "uIHDIRCYklO_",
   "metadata": {
    "id": "uIHDIRCYklO_"
   },
   "source": [
    "### Q5: Evaluate Models\n",
    "* Evaluate the performance of the four models with two metrics, including MSE and Root MSE\n",
    "* Print the results of the four models regarding the two metrics"
   ]
  },
  {
   "cell_type": "code",
   "execution_count": 148,
   "id": "61621c39",
   "metadata": {},
   "outputs": [
    {
     "name": "stdout",
     "output_type": "stream",
     "text": [
      "Model-a: MSE = 258450435689.8825, RMSE = 508380.2078069941\n",
      "Model-b: MSE = 285293189672.43256, RMSE = 534128.4393031629\n",
      "Model-c: MSE = 160303155228.5391, RMSE = 400378.7647072945\n",
      "Model-d: MSE = 199442370973.79584, RMSE = 446589.71212265495\n"
     ]
    }
   ],
   "source": [
    "# Printing the results of above models\n",
    "print(f\"Model-a: MSE = {mse_a}, RMSE = {rmse_a}\")\n",
    "print(f\"Model-b: MSE = {mse_b}, RMSE = {rmse_b}\")\n",
    "print(f\"Model-c: MSE = {mse_c}, RMSE = {rmse_c}\")\n",
    "print(f\"Model-d: MSE = {mse_d}, RMSE = {rmse_d}\")"
   ]
  },
  {
   "cell_type": "markdown",
   "id": "6wmgPAzpklPA",
   "metadata": {
    "id": "6wmgPAzpklPA"
   },
   "source": [
    "### Q6: Visualize, Compare and Analyze the Results\n",
    "* Visulize the results, and perform ___insightful analysis___ on the obtained results. For better visualization, you may need to carefully set the scale for the y-axis.\n",
    "* Normally, the model trained with most correlated features and more training data will get better results. Do you obtain the similar observations? If not, please ___explain the possible reasons___."
   ]
  },
  {
   "cell_type": "code",
   "execution_count": 190,
   "id": "u0dpqTCmklPA",
   "metadata": {
    "id": "u0dpqTCmklPA"
   },
   "outputs": [
    {
     "name": "stderr",
     "output_type": "stream",
     "text": [
      "C:\\Users\\aaliy\\AppData\\Local\\Temp\\ipykernel_6180\\1297111098.py:12: FutureWarning: \n",
      "\n",
      "Passing `palette` without assigning `hue` is deprecated and will be removed in v0.14.0. Assign the `x` variable to `hue` and set `legend=False` for the same effect.\n",
      "\n",
      "  sns.barplot(x='Model', y='MSE', data=df, palette='Paired')\n"
     ]
    },
    {
     "data": {
      "image/png": "[encoded data removed]",
      "text/plain": [
       "<Figure size 1200x600 with 1 Axes>"
      ]
     },
     "metadata": {},
     "output_type": "display_data"
    },
    {
     "name": "stderr",
     "output_type": "stream",
     "text": [
      "C:\\Users\\aaliy\\AppData\\Local\\Temp\\ipykernel_6180\\1297111098.py:20: FutureWarning: \n",
      "\n",
      "Passing `palette` without assigning `hue` is deprecated and will be removed in v0.14.0. Assign the `x` variable to `hue` and set `legend=False` for the same effect.\n",
      "\n",
      "  sns.barplot(x='Model', y='RMSE', data=df, palette='tab10')\n"
     ]
    },
    {
     "data": {
      "image/png": "[encoded data removed]",
      "text/plain": [
       "<Figure size 1200x600 with 1 Axes>"
      ]
     },
     "metadata": {},
     "output_type": "display_data"
    }
   ],
   "source": [
    "# MSE and RMSE values from the results\n",
    "mse_values = [mse_a,mse_b,mse_c,mse_d]\n",
    "rmse_values = [rmse_a,rmse_b,rmse_c,rmse_d]\n",
    "model_names = ['Model-a', 'Model-b', \n",
    "               'Model-c', 'Model-d']\n",
    "\n",
    "# Create a DataFrame for seaborn plotting\n",
    "df = pd.DataFrame({'Model': model_names, 'MSE': mse_values, 'RMSE': rmse_values})\n",
    "\n",
    "# Plot MSE using Seaborn\n",
    "plt.figure(figsize=(12, 6))\n",
    "sns.barplot(x='Model', y='MSE', data=df, palette='Paired')\n",
    "plt.ylabel('MSE (log scale)')\n",
    "plt.yscale('log')\n",
    "plt.title('MSE Model')\n",
    "plt.show()\n",
    "\n",
    "# Plot RMSE using Seaborn\n",
    "plt.figure(figsize=(12, 6))\n",
    "sns.barplot(x='Model', y='RMSE', data=df, palette='tab10')\n",
    "plt.ylabel('RMSE (in hundred thousands)')\n",
    "plt.title('RMSE Model')\n",
    "plt.show()\n"
   ]
  },
  {
   "cell_type": "markdown",
   "id": "8ed6de42-55e2-4dd1-b059-ac3ee8d40435",
   "metadata": {},
   "source": [
    "### Insights and Analysis\r\n",
    "\r\n",
    "1. **Effect of Feature Selection:**\r\n",
    "\r\n",
    "   - **Model-a versus Model-b:**\r\n",
    "     - **Model-a:** It is traby way, taking the most correlated features of training data and 10% of overall training data into account, with a lower MSE of 258.45 billion and RMSE of 508,380.\r\n",
    "     - **Model-b:** It is trained similarly but uses the least correlated features. In this case, it shows a higher MSE of 285.29 billion and RMSE of 534,128.\r\n",
    "   - **Insight:** That will be explained by the fact that choosing the most correlated features increases the model's performance even on small training data.\r\n",
    "\r\n",
    "   - **Model-c vs. Model-d:**\r\n",
    "     - **Model-c:** This model, trained with the most correlated features using 90% of data, yields a very low MSE of 160.30 billion and RMSE of 400,378.\r\n",
    "     - **Model-d:** Trained with the least correlated features, Model-d yields an MSE of 199.44 billion and a very high RMSE of 446,590.\r\n",
    "   - **Insight:** Again, using the most correlated features results in better model performance; the improvement is more pronounced when a larger training dataset is used.\r\n",
    "\r\n",
    "2. **Impact of the Training Data Size:**\r\n",
    "\r\n",
    "   - **Model-a vs. Model-c:**\r\n",
    "     - It is seen that Model-c on 90% of the training data gives a lower MSE and RMSE than Model-a on 10% of the training data, though their most correlated features are the same.\r\n",
    "   - **Insight:** High accuracy of the model will result from the large size of our training dataset. It learns better from the data, so the prediction mistake will become less.\r\n",
    "\r\n",
    "   - **Model-b vs. Model-d:**\r\n",
    "     - **Model-d** outperforms **Model-b**, even though both models used the least correlated features; it used 90% of the training data while Model-b utilized 10%.\r\n",
    "   - **Insight:** While the increase is not that significant compared to when applying the most correlated features, generally speaking, the larger the size of the training data, the better the performance of the model.\r\n",
    "\r\n",
    "### Conclusion\r\n",
    "\r\n",
    "- **Feature Selection:** Models trained on the most correlated features, such as 'year' and 'km_driven,' outperform those with minimal correlation, including 'seller_type' and 'owner'. The use of feature selection therefore brings into limelight its worth among relevant predictors.\r\n",
    "  \r\n",
    "- **Size of the Training Data:** In all feature sets, a larger size in training improved model performance. Thus, the results confirm, as expected, that larger datasets are better in general to train machine learning models.\r\n",
    "  \r\n",
    "- **Both Factors Combined:** The best model performance occurs at the time when both the most correlated features were selected and a lrge training set is employed.\r\n",
    "tax"
   ]
  },
  {
   "cell_type": "markdown",
   "id": "f97796c2",
   "metadata": {},
   "source": [
    "### Q7: Data Science Ethics\n",
    "*Please read the following examples [Click here to read the example_1.](https://www.vox.com/covid-19-coronavirus-us-response-trump/2020/5/18/21262265/georgia-covid-19-cases-declining-reopening) [Click here to read the example_2.](https://viborc.com/ethics-and-ethical-data-visualization-a-complete-guide/)\n",
    "\n",
    "*Then view the picture ![My Image](figure_portfolio2.png \"This is my image\")\n",
    "Please compose an analysis of 100-200 words that evaluates potential ethical concerns associated with the infographic, detailing the reasons behind these issues.\n"
   ]
  },
  {
   "cell_type": "raw",
   "id": "c0f645c0-563d-4a80-876b-5682192e7f10",
   "metadata": {},
   "source": [
    "The infographic depicting the 2008 Summer Olympics medal counts raises multiple ethical concerns due to its presentation and design choices. By organizing the data first by \"Total Medals\" and then by \"Gold Medals,\" it creates varying hierarchies of national success, which may lead viewers to perceive some countries as more successful than others, potentially intensifying nationalistic pride or resentment. This ambiguous sorting is not transparent and can mislead the audience about the real nature of the Olympic success. The shift of USA and China's position by just changing the type of sorting shows how easily data can be manipulated. A constant metric of the table should be decided and that should be used so that the leader of the table is not misrepresented.\n",
    "Moreover, the infographic does not provide such contextual information as the size of the Olympic delegation representing each country, investment in sports programs, and even socioeconomic factors that could affect the development of sports. These omissions can be misconstrued through an analysis of the data to appraise the extent of a nation's performance. Smaller or poorer countries will more than likely appear much less successful in contrast to larger and better-funded ones when, in fact, they can be doing more in relation to their size and means.ns.\r\n"
   ]
  },
  {
   "cell_type": "code",
   "execution_count": null,
   "id": "f5bee312-692d-47c6-83e5-06ba871379a5",
   "metadata": {},
   "outputs": [],
   "source": []
  }
 ],
 "metadata": {
  "colab": {
   "provenance": []
  },
  "kernelspec": {
   "display_name": "Python 3 (ipykernel)",
   "language": "python",
   "name": "python3"
  },
  "language_info": {
   "codemirror_mode": {
    "name": "ipython",
    "version": 3
   },
   "file_extension": ".py",
   "mimetype": "text/x-python",
   "name": "python",
   "nbconvert_exporter": "python",
   "pygments_lexer": "ipython3",
   "version": "3.12.4"
  }
 },
 "nbformat": 4,
 "nbformat_minor": 5
}
